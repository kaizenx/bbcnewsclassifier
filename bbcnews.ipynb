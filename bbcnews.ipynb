{
 "cells": [
  {
   "cell_type": "markdown",
   "id": "e736a397-7d2b-4ae6-a3bf-44daeacf53a1",
   "metadata": {},
   "source": [
    "# Week 4 BBC News Classification Kaggle Mini-Project"
   ]
  },
  {
   "cell_type": "markdown",
   "id": "36af3922-cdb9-43f4-a026-a61789933688",
   "metadata": {},
   "source": [
    "## Import libraries and data\n",
    "Importing libraries and downloading data\n",
    "Please download data and put the train and test csv into the data folder before running"
   ]
  },
  {
   "cell_type": "code",
   "execution_count": 3,
   "id": "a5e54961-2f7c-4858-a433-87b8cfbc2047",
   "metadata": {},
   "outputs": [],
   "source": [
    "import pandas as pd\n",
    "import matplotlib.pyplot as plt\n",
    "import numpy as np\n",
    "import time\n",
    "import seaborn as sns\n",
    "\n",
    "from itertools import permutations\n",
    "\n",
    "train = pd.read_csv('data/train.csv')\n",
    "test = pd.read_csv('data/test.csv')\n"
   ]
  },
  {
   "cell_type": "markdown",
   "id": "583f0f6e-d6a4-453c-a905-2e75705df1af",
   "metadata": {},
   "source": [
    "## Exploratory Data Analysis (EDA)"
   ]
  },
  {
   "cell_type": "code",
   "execution_count": 5,
   "id": "c8bf737d-f327-495e-8aea-058465ed62a2",
   "metadata": {},
   "outputs": [
    {
     "name": "stdout",
     "output_type": "stream",
     "text": [
      "\n",
      "TRAIN INFO\n",
      "\n",
      "<class 'pandas.core.frame.DataFrame'>\n",
      "RangeIndex: 1490 entries, 0 to 1489\n",
      "Data columns (total 3 columns):\n",
      " #   Column     Non-Null Count  Dtype \n",
      "---  ------     --------------  ----- \n",
      " 0   ArticleId  1490 non-null   int64 \n",
      " 1   Text       1490 non-null   object\n",
      " 2   Category   1490 non-null   object\n",
      "dtypes: int64(1), object(2)\n",
      "memory usage: 35.1+ KB\n",
      "None\n"
     ]
    },
    {
     "data": {
      "text/html": [
       "<div>\n",
       "<style scoped>\n",
       "    .dataframe tbody tr th:only-of-type {\n",
       "        vertical-align: middle;\n",
       "    }\n",
       "\n",
       "    .dataframe tbody tr th {\n",
       "        vertical-align: top;\n",
       "    }\n",
       "\n",
       "    .dataframe thead th {\n",
       "        text-align: right;\n",
       "    }\n",
       "</style>\n",
       "<table border=\"1\" class=\"dataframe\">\n",
       "  <thead>\n",
       "    <tr style=\"text-align: right;\">\n",
       "      <th></th>\n",
       "      <th>ArticleId</th>\n",
       "      <th>Text</th>\n",
       "      <th>Category</th>\n",
       "    </tr>\n",
       "  </thead>\n",
       "  <tbody>\n",
       "    <tr>\n",
       "      <th>0</th>\n",
       "      <td>1833</td>\n",
       "      <td>worldcom ex-boss launches defence lawyers defe...</td>\n",
       "      <td>business</td>\n",
       "    </tr>\n",
       "    <tr>\n",
       "      <th>1</th>\n",
       "      <td>154</td>\n",
       "      <td>german business confidence slides german busin...</td>\n",
       "      <td>business</td>\n",
       "    </tr>\n",
       "    <tr>\n",
       "      <th>2</th>\n",
       "      <td>1101</td>\n",
       "      <td>bbc poll indicates economic gloom citizens in ...</td>\n",
       "      <td>business</td>\n",
       "    </tr>\n",
       "    <tr>\n",
       "      <th>3</th>\n",
       "      <td>1976</td>\n",
       "      <td>lifestyle  governs mobile choice  faster  bett...</td>\n",
       "      <td>tech</td>\n",
       "    </tr>\n",
       "    <tr>\n",
       "      <th>4</th>\n",
       "      <td>917</td>\n",
       "      <td>enron bosses in $168m payout eighteen former e...</td>\n",
       "      <td>business</td>\n",
       "    </tr>\n",
       "  </tbody>\n",
       "</table>\n",
       "</div>"
      ],
      "text/plain": [
       "   ArticleId                                               Text  Category\n",
       "0       1833  worldcom ex-boss launches defence lawyers defe...  business\n",
       "1        154  german business confidence slides german busin...  business\n",
       "2       1101  bbc poll indicates economic gloom citizens in ...  business\n",
       "3       1976  lifestyle  governs mobile choice  faster  bett...      tech\n",
       "4        917  enron bosses in $168m payout eighteen former e...  business"
      ]
     },
     "execution_count": 5,
     "metadata": {},
     "output_type": "execute_result"
    }
   ],
   "source": [
    "print(\"\\nTRAIN INFO\\n\")\n",
    "print(train.info())\n",
    "train.head()"
   ]
  },
  {
   "cell_type": "code",
   "execution_count": 6,
   "id": "d731f40e-2ccd-44b3-8c1f-009865bf4057",
   "metadata": {},
   "outputs": [
    {
     "name": "stdout",
     "output_type": "stream",
     "text": [
      "<class 'pandas.core.frame.DataFrame'>\n",
      "RangeIndex: 735 entries, 0 to 734\n",
      "Data columns (total 2 columns):\n",
      " #   Column     Non-Null Count  Dtype \n",
      "---  ------     --------------  ----- \n",
      " 0   ArticleId  735 non-null    int64 \n",
      " 1   Text       735 non-null    object\n",
      "dtypes: int64(1), object(1)\n",
      "memory usage: 11.6+ KB\n"
     ]
    },
    {
     "data": {
      "text/plain": [
       "None"
      ]
     },
     "metadata": {},
     "output_type": "display_data"
    },
    {
     "data": {
      "text/html": [
       "<div>\n",
       "<style scoped>\n",
       "    .dataframe tbody tr th:only-of-type {\n",
       "        vertical-align: middle;\n",
       "    }\n",
       "\n",
       "    .dataframe tbody tr th {\n",
       "        vertical-align: top;\n",
       "    }\n",
       "\n",
       "    .dataframe thead th {\n",
       "        text-align: right;\n",
       "    }\n",
       "</style>\n",
       "<table border=\"1\" class=\"dataframe\">\n",
       "  <thead>\n",
       "    <tr style=\"text-align: right;\">\n",
       "      <th></th>\n",
       "      <th>ArticleId</th>\n",
       "      <th>Text</th>\n",
       "    </tr>\n",
       "  </thead>\n",
       "  <tbody>\n",
       "    <tr>\n",
       "      <th>0</th>\n",
       "      <td>1018</td>\n",
       "      <td>qpr keeper day heads for preston queens park r...</td>\n",
       "    </tr>\n",
       "    <tr>\n",
       "      <th>1</th>\n",
       "      <td>1319</td>\n",
       "      <td>software watching while you work software that...</td>\n",
       "    </tr>\n",
       "    <tr>\n",
       "      <th>2</th>\n",
       "      <td>1138</td>\n",
       "      <td>d arcy injury adds to ireland woe gordon d arc...</td>\n",
       "    </tr>\n",
       "    <tr>\n",
       "      <th>3</th>\n",
       "      <td>459</td>\n",
       "      <td>india s reliance family feud heats up the ongo...</td>\n",
       "    </tr>\n",
       "    <tr>\n",
       "      <th>4</th>\n",
       "      <td>1020</td>\n",
       "      <td>boro suffer morrison injury blow middlesbrough...</td>\n",
       "    </tr>\n",
       "  </tbody>\n",
       "</table>\n",
       "</div>"
      ],
      "text/plain": [
       "   ArticleId                                               Text\n",
       "0       1018  qpr keeper day heads for preston queens park r...\n",
       "1       1319  software watching while you work software that...\n",
       "2       1138  d arcy injury adds to ireland woe gordon d arc...\n",
       "3        459  india s reliance family feud heats up the ongo...\n",
       "4       1020  boro suffer morrison injury blow middlesbrough..."
      ]
     },
     "metadata": {},
     "output_type": "display_data"
    }
   ],
   "source": [
    "\n",
    "display(test.info())\n",
    "display(test.head())"
   ]
  },
  {
   "cell_type": "markdown",
   "id": "845ee95d-87b5-49d4-a366-ccca1b6472bc",
   "metadata": {},
   "source": [
    "### Visualization"
   ]
  },
  {
   "cell_type": "code",
   "execution_count": 8,
   "id": "4aa2929e-9992-4d07-ac07-36ef6c20289a",
   "metadata": {},
   "outputs": [
    {
     "data": {
      "image/png": "[encoded data removed]",
      "text/plain": [
       "<Figure size 500x400 with 1 Axes>"
      ]
     },
     "metadata": {},
     "output_type": "display_data"
    }
   ],
   "source": [
    "plt.figure(figsize=(5, 4))\n",
    "sns.histplot(train, x='Category');"
   ]
  },
  {
   "cell_type": "code",
   "execution_count": 9,
   "id": "ff4277c6-23b7-4fd1-99c0-c7e7583bfd28",
   "metadata": {},
   "outputs": [
    {
     "data": {
      "text/plain": [
       "Category\n",
       "sport            346\n",
       "business         336\n",
       "politics         274\n",
       "entertainment    273\n",
       "tech             261\n",
       "Name: count, dtype: int64"
      ]
     },
     "metadata": {},
     "output_type": "display_data"
    }
   ],
   "source": [
    "category_counts = train.Category.value_counts()\n",
    "display(category_counts)"
   ]
  },
  {
   "cell_type": "code",
   "execution_count": 10,
   "id": "e73fbcce-2c93-46de-a454-976064ac0427",
   "metadata": {},
   "outputs": [
    {
     "data": {
      "text/plain": [
       "1.3256704980842913"
      ]
     },
     "metadata": {},
     "output_type": "display_data"
    }
   ],
   "source": [
    "majority_class = category_counts.loc['sport']\n",
    "minority_class = category_counts.loc['tech']\n",
    "imbalance_ratio = majority_class / minority_class\n",
    "display(imbalance_ratio)"
   ]
  },
  {
   "cell_type": "markdown",
   "id": "27524745-4a31-4a15-94eb-40cea9ba3db2",
   "metadata": {},
   "source": [
    "### What is the Imbalance Ratio?\n",
    "\n",
    "The **imbalance ratio** measures class imbalance in a dataset by comparing the number of samples in the majority class to those in the minority class. It's calculated as:\n",
    "\n",
    "$$\n",
    "  \\text{Imbalance Ratio} = \\frac{N_{\\text{majority}}}{N_{\\text{minority}}}\n",
    "$$\n",
    "\n",
    "### Example Calculation\n",
    "\n",
    "If Class 0 has 900 samples and Class 1 has 100 samples, the imbalance ratio is:\n",
    "\n",
    "$$\n",
    "  \\text{Imbalance Ratio} = \\frac{900}{100} = 9\n",
    "$$\n",
    "\n",
    "### Good vs. Bad Imbalance Ratios\n",
    "\n",
    "- **Close to 1 (Good)**: Indicates a balanced dataset.\n",
    "- **3 to 10 (Moderate)**: Suggests some imbalance; may need minor adjustments.\n",
    "- **Above 10 (Bad)**: Significant imbalance; requires corrective measures like resampling or using specialized algorithms.\n",
    "\n",
    "### Importance of the Imbalance Ratio\n",
    "\n",
    "Understanding the imbalance ratio helps:\n",
    "- Assess the need for balancing techniques.\n",
    "- Guide model selection and evaluation.\n",
    "- Ensure fair and accurate predictions across all classes.\n",
    "\n",
    "A good ratio is close to 1, while ratios above 10 often require intervention to improve model performance."
   ]
  },
  {
   "cell_type": "code",
   "execution_count": 12,
   "id": "66bc661c-a3e7-49cf-a5ca-aca4eb835996",
   "metadata": {},
   "outputs": [
    {
     "data": {
      "text/html": [
       "<div>\n",
       "<style scoped>\n",
       "    .dataframe tbody tr th:only-of-type {\n",
       "        vertical-align: middle;\n",
       "    }\n",
       "\n",
       "    .dataframe tbody tr th {\n",
       "        vertical-align: top;\n",
       "    }\n",
       "\n",
       "    .dataframe thead tr th {\n",
       "        text-align: left;\n",
       "    }\n",
       "\n",
       "    .dataframe thead tr:last-of-type th {\n",
       "        text-align: right;\n",
       "    }\n",
       "</style>\n",
       "<table border=\"1\" class=\"dataframe\">\n",
       "  <thead>\n",
       "    <tr>\n",
       "      <th></th>\n",
       "      <th colspan=\"8\" halign=\"left\">word_count</th>\n",
       "    </tr>\n",
       "    <tr>\n",
       "      <th></th>\n",
       "      <th>count</th>\n",
       "      <th>mean</th>\n",
       "      <th>std</th>\n",
       "      <th>min</th>\n",
       "      <th>25%</th>\n",
       "      <th>50%</th>\n",
       "      <th>75%</th>\n",
       "      <th>max</th>\n",
       "    </tr>\n",
       "    <tr>\n",
       "      <th>Category</th>\n",
       "      <th></th>\n",
       "      <th></th>\n",
       "      <th></th>\n",
       "      <th></th>\n",
       "      <th></th>\n",
       "      <th></th>\n",
       "      <th></th>\n",
       "      <th></th>\n",
       "    </tr>\n",
       "  </thead>\n",
       "  <tbody>\n",
       "    <tr>\n",
       "      <th>business</th>\n",
       "      <td>336.0</td>\n",
       "      <td>334.169643</td>\n",
       "      <td>133.527272</td>\n",
       "      <td>145.0</td>\n",
       "      <td>253.00</td>\n",
       "      <td>304.0</td>\n",
       "      <td>391.25</td>\n",
       "      <td>902.0</td>\n",
       "    </tr>\n",
       "    <tr>\n",
       "      <th>entertainment</th>\n",
       "      <td>273.0</td>\n",
       "      <td>333.912088</td>\n",
       "      <td>203.887349</td>\n",
       "      <td>144.0</td>\n",
       "      <td>229.00</td>\n",
       "      <td>272.0</td>\n",
       "      <td>380.00</td>\n",
       "      <td>2448.0</td>\n",
       "    </tr>\n",
       "    <tr>\n",
       "      <th>politics</th>\n",
       "      <td>274.0</td>\n",
       "      <td>449.689781</td>\n",
       "      <td>258.836242</td>\n",
       "      <td>90.0</td>\n",
       "      <td>319.25</td>\n",
       "      <td>441.5</td>\n",
       "      <td>527.00</td>\n",
       "      <td>3345.0</td>\n",
       "    </tr>\n",
       "    <tr>\n",
       "      <th>sport</th>\n",
       "      <td>346.0</td>\n",
       "      <td>335.346821</td>\n",
       "      <td>185.443084</td>\n",
       "      <td>116.0</td>\n",
       "      <td>210.25</td>\n",
       "      <td>294.5</td>\n",
       "      <td>412.75</td>\n",
       "      <td>1671.0</td>\n",
       "    </tr>\n",
       "    <tr>\n",
       "      <th>tech</th>\n",
       "      <td>261.0</td>\n",
       "      <td>501.858238</td>\n",
       "      <td>211.672986</td>\n",
       "      <td>188.0</td>\n",
       "      <td>340.00</td>\n",
       "      <td>457.0</td>\n",
       "      <td>633.00</td>\n",
       "      <td>1549.0</td>\n",
       "    </tr>\n",
       "  </tbody>\n",
       "</table>\n",
       "</div>"
      ],
      "text/plain": [
       "              word_count                                                \\\n",
       "                   count        mean         std    min     25%    50%   \n",
       "Category                                                                 \n",
       "business           336.0  334.169643  133.527272  145.0  253.00  304.0   \n",
       "entertainment      273.0  333.912088  203.887349  144.0  229.00  272.0   \n",
       "politics           274.0  449.689781  258.836242   90.0  319.25  441.5   \n",
       "sport              346.0  335.346821  185.443084  116.0  210.25  294.5   \n",
       "tech               261.0  501.858238  211.672986  188.0  340.00  457.0   \n",
       "\n",
       "                               \n",
       "                  75%     max  \n",
       "Category                       \n",
       "business       391.25   902.0  \n",
       "entertainment  380.00  2448.0  \n",
       "politics       527.00  3345.0  \n",
       "sport          412.75  1671.0  \n",
       "tech           633.00  1549.0  "
      ]
     },
     "execution_count": 12,
     "metadata": {},
     "output_type": "execute_result"
    }
   ],
   "source": [
    "train_stats = train[['Text', 'Category']]\n",
    "train_stats['word_count'] = train_stats.Text.apply(lambda x: len(x.split()))\n",
    "train_stats[['Category', 'word_count']].groupby('Category').describe()"
   ]
  },
  {
   "cell_type": "code",
   "execution_count": 13,
   "id": "519361a7-cb6e-4194-ab0a-f0fc3a599672",
   "metadata": {},
   "outputs": [
    {
     "data": {
      "image/png": "[encoded data removed]",
      "text/plain": [
       "<Figure size 1200x1200 with 5 Axes>"
      ]
     },
     "metadata": {},
     "output_type": "display_data"
    }
   ],
   "source": [
    "g = sns.FacetGrid(train_stats, col='Category', col_wrap=2, height=4, aspect=1.5)\n",
    "g.map(sns.histplot, 'word_count', bins=20)\n",
    "g.set_axis_labels('Word Count per Article', 'Number of Articles')\n",
    "plt.show()"
   ]
  },
  {
   "cell_type": "markdown",
   "id": "3a6713fe-41af-44ae-923b-f02deaf17036",
   "metadata": {},
   "source": [
    "### Insights\n",
    "\n",
    "1. **Dominance of Shorter Articles**: The majority of articles across all categories have word counts below 500. This indicates that shorter articles are common regardless of the topic, suggesting that the content in this dataset tends to be concise.\n",
    "\n",
    "2. **Business and Politics Categories**: These two categories show a slightly higher concentration of articles with word counts closer to the 500-800 range compared to others. This could imply that business and politics topics often require more detailed explanations or analysis.\n",
    "\n",
    "3. **Variation in Distribution**:\n",
    "   - **Entertainment and Tech**: These categories seem to have more articles clustered around shorter word counts, indicating that these topics might be more straightforward or summarized.\n",
    "   - **Politics**: The politics category has a wider spread, with articles stretching into higher word counts, suggesting that political articles can be more variable in length, possibly due to the complexity of the topics discussed.\n",
    "\n",
    "4. **Outliers in Politics and Business**: A few articles in the politics and business categories have significantly higher word counts (e.g., around 2500-3500 words). These could be in-depth reports, feature articles, or special analyses that go into much greater detail than typical content.\n",
    "\n",
    "5. **Overlap Across Categories**: There is a significant overlap in word count distributions across all categories, meaning that word count alone might not be a strong differentiator between these categories. Other features might be needed for better classification if this was a task.\n",
    "\n",
    "6. **Potential for Content Segmentation**: Given the variation in word counts within certain categories like politics and business, there might be opportunities to segment content into sub-categories based on article length, such as brief news updates versus in-depth features.\n",
    "\n",
    "These insights suggest that while word count is an important characteristic, it interacts with content type differently across categories, influencing the overall presentation and possibly the reader's engagement with the material."
   ]
  },
  {
   "cell_type": "markdown",
   "id": "75f2de98-13a1-4e4c-9195-ee8da000d793",
   "metadata": {},
   "source": [
    "## Data Quality\r\n",
    "\r\n",
    "1. **Missing Values**: Checking for missing values in both the train and test data helps identify gaps in the dataset that may need to be addressed through imputation or removal, which is crucial for building accurate models.\r\n",
    "\r\n",
    "2. **Unique Values**: Counting the unique values in the train data (`train.nunique()`) helps identify the diversity of data in each column, revealing potential categorical variables and aiding in feature selection and preprocessing decisioeling."
   ]
  },
  {
   "cell_type": "code",
   "execution_count": 16,
   "id": "bbf3ad68-c586-4334-ba26-91806ec906f8",
   "metadata": {},
   "outputs": [
    {
     "name": "stdout",
     "output_type": "stream",
     "text": [
      "\n",
      "Missing values in Train Data:\n"
     ]
    },
    {
     "data": {
      "text/plain": [
       "ArticleId    0\n",
       "Text         0\n",
       "Category     0\n",
       "dtype: int64"
      ]
     },
     "metadata": {},
     "output_type": "display_data"
    },
    {
     "name": "stdout",
     "output_type": "stream",
     "text": [
      "\n",
      "Missing values in Test Data:\n"
     ]
    },
    {
     "data": {
      "text/plain": [
       "ArticleId    0\n",
       "Text         0\n",
       "dtype: int64"
      ]
     },
     "metadata": {},
     "output_type": "display_data"
    },
    {
     "name": "stdout",
     "output_type": "stream",
     "text": [
      "\n",
      "Identifying Categorical Features:\n"
     ]
    },
    {
     "data": {
      "text/plain": [
       "ArticleId    1490\n",
       "Text         1440\n",
       "Category        5\n",
       "dtype: int64"
      ]
     },
     "metadata": {},
     "output_type": "display_data"
    }
   ],
   "source": [
    "# Check for missing values\n",
    "print(\"\\nMissing values in Train Data:\")\n",
    "display(train.isnull().sum())\n",
    "\n",
    "print(\"\\nMissing values in Test Data:\")\n",
    "display(test.isnull().sum())\n",
    "\n",
    "print(\"\\nIdentifying Categorical Features:\")\n",
    "display(train.nunique())"
   ]
  },
  {
   "cell_type": "code",
   "execution_count": 17,
   "id": "58ca226c-b010-441a-a343-7e794dfc7a78",
   "metadata": {},
   "outputs": [],
   "source": [
    "label_names = train.Category.unique().tolist()\n",
    "label_names\n",
    "mapping = dict(zip(label_names, list(range(5))))\n",
    "mapping\n",
    "train['labels'] = [mapping[c] for c in train.Category]\n",
    "train.tail()\n",
    "y = train.labels.tolist()"
   ]
  },
  {
   "cell_type": "markdown",
   "id": "f02670dc-466f-4602-bb4b-e2b283d22e5e",
   "metadata": {},
   "source": [
    "## Data Cleaning"
   ]
  },
  {
   "cell_type": "markdown",
   "id": "099b238b-d24b-4149-b842-972adcc2080a",
   "metadata": {},
   "source": [
    "### Identifying duplicate articles based on the 'Text' column"
   ]
  },
  {
   "cell_type": "code",
   "execution_count": 20,
   "id": "e7829f4c-5475-4551-930c-04565f5fc8a2",
   "metadata": {},
   "outputs": [
    {
     "data": {
      "text/html": [
       "<div>\n",
       "<style scoped>\n",
       "    .dataframe tbody tr th:only-of-type {\n",
       "        vertical-align: middle;\n",
       "    }\n",
       "\n",
       "    .dataframe tbody tr th {\n",
       "        vertical-align: top;\n",
       "    }\n",
       "\n",
       "    .dataframe thead th {\n",
       "        text-align: right;\n",
       "    }\n",
       "</style>\n",
       "<table border=\"1\" class=\"dataframe\">\n",
       "  <thead>\n",
       "    <tr style=\"text-align: right;\">\n",
       "      <th></th>\n",
       "      <th>ArticleId</th>\n",
       "      <th>Text</th>\n",
       "      <th>Category</th>\n",
       "      <th>labels</th>\n",
       "    </tr>\n",
       "  </thead>\n",
       "  <tbody>\n",
       "    <tr>\n",
       "      <th>0</th>\n",
       "      <td>1326</td>\n",
       "      <td>ask jeeves joins web log market ask jeeves has...</td>\n",
       "      <td>tech</td>\n",
       "      <td>1</td>\n",
       "    </tr>\n",
       "    <tr>\n",
       "      <th>1</th>\n",
       "      <td>1098</td>\n",
       "      <td>ask jeeves joins web log market ask jeeves has...</td>\n",
       "      <td>tech</td>\n",
       "      <td>1</td>\n",
       "    </tr>\n",
       "    <tr>\n",
       "      <th>2</th>\n",
       "      <td>1042</td>\n",
       "      <td>aviator  creator  in oscars snub the man who s...</td>\n",
       "      <td>entertainment</td>\n",
       "      <td>4</td>\n",
       "    </tr>\n",
       "    <tr>\n",
       "      <th>3</th>\n",
       "      <td>374</td>\n",
       "      <td>aviator  creator  in oscars snub the man who s...</td>\n",
       "      <td>entertainment</td>\n",
       "      <td>4</td>\n",
       "    </tr>\n",
       "    <tr>\n",
       "      <th>4</th>\n",
       "      <td>1847</td>\n",
       "      <td>blind student  hears in colour  a blind studen...</td>\n",
       "      <td>tech</td>\n",
       "      <td>1</td>\n",
       "    </tr>\n",
       "    <tr>\n",
       "      <th>...</th>\n",
       "      <td>...</td>\n",
       "      <td>...</td>\n",
       "      <td>...</td>\n",
       "      <td>...</td>\n",
       "    </tr>\n",
       "    <tr>\n",
       "      <th>95</th>\n",
       "      <td>789</td>\n",
       "      <td>virus poses as christmas e-mail security firms...</td>\n",
       "      <td>tech</td>\n",
       "      <td>1</td>\n",
       "    </tr>\n",
       "    <tr>\n",
       "      <th>96</th>\n",
       "      <td>957</td>\n",
       "      <td>web radio takes spanish rap global spin the ra...</td>\n",
       "      <td>tech</td>\n",
       "      <td>1</td>\n",
       "    </tr>\n",
       "    <tr>\n",
       "      <th>97</th>\n",
       "      <td>110</td>\n",
       "      <td>web radio takes spanish rap global spin the ra...</td>\n",
       "      <td>tech</td>\n",
       "      <td>1</td>\n",
       "    </tr>\n",
       "    <tr>\n",
       "      <th>98</th>\n",
       "      <td>2017</td>\n",
       "      <td>what high-definition will do to dvds first it ...</td>\n",
       "      <td>tech</td>\n",
       "      <td>1</td>\n",
       "    </tr>\n",
       "    <tr>\n",
       "      <th>99</th>\n",
       "      <td>1111</td>\n",
       "      <td>what high-definition will do to dvds first it ...</td>\n",
       "      <td>tech</td>\n",
       "      <td>1</td>\n",
       "    </tr>\n",
       "  </tbody>\n",
       "</table>\n",
       "<p>100 rows × 4 columns</p>\n",
       "</div>"
      ],
      "text/plain": [
       "    ArticleId                                               Text  \\\n",
       "0        1326  ask jeeves joins web log market ask jeeves has...   \n",
       "1        1098  ask jeeves joins web log market ask jeeves has...   \n",
       "2        1042  aviator  creator  in oscars snub the man who s...   \n",
       "3         374  aviator  creator  in oscars snub the man who s...   \n",
       "4        1847  blind student  hears in colour  a blind studen...   \n",
       "..        ...                                                ...   \n",
       "95        789  virus poses as christmas e-mail security firms...   \n",
       "96        957  web radio takes spanish rap global spin the ra...   \n",
       "97        110  web radio takes spanish rap global spin the ra...   \n",
       "98       2017  what high-definition will do to dvds first it ...   \n",
       "99       1111  what high-definition will do to dvds first it ...   \n",
       "\n",
       "         Category  labels  \n",
       "0            tech       1  \n",
       "1            tech       1  \n",
       "2   entertainment       4  \n",
       "3   entertainment       4  \n",
       "4            tech       1  \n",
       "..            ...     ...  \n",
       "95           tech       1  \n",
       "96           tech       1  \n",
       "97           tech       1  \n",
       "98           tech       1  \n",
       "99           tech       1  \n",
       "\n",
       "[100 rows x 4 columns]"
      ]
     },
     "metadata": {},
     "output_type": "display_data"
    }
   ],
   "source": [
    "duplicates = train[train.duplicated(subset='Text', keep=False)]\n",
    "duplicates_sorted = duplicates.sort_values(by='Text').reset_index(drop=True)\n",
    "display(duplicates_sorted)"
   ]
  },
  {
   "cell_type": "code",
   "execution_count": 21,
   "id": "a003beec-815f-43ed-907c-f61b58f2501c",
   "metadata": {},
   "outputs": [
    {
     "data": {
      "text/plain": [
       "ArticleId    1440\n",
       "Text         1440\n",
       "Category        5\n",
       "labels          5\n",
       "dtype: int64"
      ]
     },
     "execution_count": 21,
     "metadata": {},
     "output_type": "execute_result"
    }
   ],
   "source": [
    "train = train.drop_duplicates(subset='Text', keep='first').reset_index(drop=True)\n",
    "train.nunique()"
   ]
  },
  {
   "cell_type": "markdown",
   "id": "2180d252-802c-42e8-aef1-1e8e9e431874",
   "metadata": {},
   "source": [
    "Now ArticleId count matches Text count"
   ]
  },
  {
   "cell_type": "markdown",
   "id": "fa1f50ca-ac3b-42c0-bc8e-6baed0fee018",
   "metadata": {},
   "source": [
    "### Removing stop words"
   ]
  },
  {
   "cell_type": "code",
   "execution_count": 24,
   "id": "597c8c68-9c1a-4b9a-98f2-5fe88bf43fb9",
   "metadata": {},
   "outputs": [
    {
     "data": {
      "text/html": [
       "<div>\n",
       "<style scoped>\n",
       "    .dataframe tbody tr th:only-of-type {\n",
       "        vertical-align: middle;\n",
       "    }\n",
       "\n",
       "    .dataframe tbody tr th {\n",
       "        vertical-align: top;\n",
       "    }\n",
       "\n",
       "    .dataframe thead th {\n",
       "        text-align: right;\n",
       "    }\n",
       "</style>\n",
       "<table border=\"1\" class=\"dataframe\">\n",
       "  <thead>\n",
       "    <tr style=\"text-align: right;\">\n",
       "      <th></th>\n",
       "      <th>Text</th>\n",
       "      <th>cleaned_text</th>\n",
       "    </tr>\n",
       "  </thead>\n",
       "  <tbody>\n",
       "    <tr>\n",
       "      <th>0</th>\n",
       "      <td>worldcom ex-boss launches defence lawyers defe...</td>\n",
       "      <td>worldcom exboss launches defence lawyers defen...</td>\n",
       "    </tr>\n",
       "    <tr>\n",
       "      <th>1</th>\n",
       "      <td>german business confidence slides german busin...</td>\n",
       "      <td>german business confidence slides german busin...</td>\n",
       "    </tr>\n",
       "    <tr>\n",
       "      <th>2</th>\n",
       "      <td>bbc poll indicates economic gloom citizens in ...</td>\n",
       "      <td>bbc poll indicates economic gloom citizens maj...</td>\n",
       "    </tr>\n",
       "    <tr>\n",
       "      <th>3</th>\n",
       "      <td>lifestyle  governs mobile choice  faster  bett...</td>\n",
       "      <td>lifestyle governs mobile choice faster better ...</td>\n",
       "    </tr>\n",
       "    <tr>\n",
       "      <th>4</th>\n",
       "      <td>enron bosses in $168m payout eighteen former e...</td>\n",
       "      <td>enron bosses m payout eighteen enron directors...</td>\n",
       "    </tr>\n",
       "  </tbody>\n",
       "</table>\n",
       "</div>"
      ],
      "text/plain": [
       "                                                Text  \\\n",
       "0  worldcom ex-boss launches defence lawyers defe...   \n",
       "1  german business confidence slides german busin...   \n",
       "2  bbc poll indicates economic gloom citizens in ...   \n",
       "3  lifestyle  governs mobile choice  faster  bett...   \n",
       "4  enron bosses in $168m payout eighteen former e...   \n",
       "\n",
       "                                        cleaned_text  \n",
       "0  worldcom exboss launches defence lawyers defen...  \n",
       "1  german business confidence slides german busin...  \n",
       "2  bbc poll indicates economic gloom citizens maj...  \n",
       "3  lifestyle governs mobile choice faster better ...  \n",
       "4  enron bosses m payout eighteen enron directors...  "
      ]
     },
     "execution_count": 24,
     "metadata": {},
     "output_type": "execute_result"
    }
   ],
   "source": [
    "# Function to clean text\n",
    "from sklearn.feature_extraction.text import ENGLISH_STOP_WORDS\n",
    "import re\n",
    "\n",
    "def clean_text(text):\n",
    "    # Convert to lowercase\n",
    "    text = text.lower()\n",
    "    # Remove special characters and digits\n",
    "    text = re.sub(r'[^a-z\\s]', '', text)\n",
    "    # Remove stopwords\n",
    "    text = ' '.join([word for word in text.split() if word not in ENGLISH_STOP_WORDS])\n",
    "    return text\n",
    "\n",
    "# Apply the cleaning function to the 'Text' column in both datasets\n",
    "train['cleaned_text'] = train['Text'].apply(clean_text)\n",
    "test['cleaned_text'] = test['Text'].apply(clean_text)\n",
    "\n",
    "# Display the first few rows of the cleaned training data\n",
    "train[['Text', 'cleaned_text']].head()\n"
   ]
  },
  {
   "cell_type": "markdown",
   "id": "9c364287-08cd-42d5-8861-9f1db2d42b10",
   "metadata": {},
   "source": [
    "### Summary\n",
    "**Stop Word Removal** improves text analysis by reducing noise, decreasing data size, and focusing models on more meaningful words, leading to better performance and interpretability.\n",
    "\n",
    "**Removing Duplicates** ensures unique, unbiased data, which prevents model bias, speeds up processing, and enhances the model's ability to generalize, resulting in more accurate and reliable outcomes."
   ]
  },
  {
   "cell_type": "markdown",
   "id": "6ab56cc0-c950-4835-adec-8c19187ae771",
   "metadata": {},
   "source": [
    "## Plan of Analysis and Word Feature Extraction\n",
    "\n",
    "Given the category distribution and the good class imbalance (imbalance ratio = 1.3257), the best word feature extraction method should not only capture important features from the text but also handle the potential challenges posed by the imbalance. Here are some considerations to determine the best method for the specific case:\n",
    "\n",
    "### Considerations:\n",
    "1. **Category Distribution**: Since the categories are somewhat balanced, the feature extraction method should capture significant patterns across all categories, including the minority ones.\n",
    "2. **Textual Content**: The text in the dataset contains rich semantic information, capturing context becomes crucial for distinguishing between categories (e.g., `politics` vs. `business`).\n",
    "\n",
    "### Recommended Word Feature Extraction Method:\n",
    "Given these considerations, **Term Frequency-Inverse Document Frequency (TF-IDF)** is likely the best feature extraction method for the data. Here’s why:\n",
    "\n",
    "1. **Importance Weighting**: TF-IDF will assign higher importance to words that are unique or particularly informative within a category while down-weighting common words that might appear across multiple categories (e.g., stopwords or generic terms).\n",
    "  \n",
    "2. **Class Distinction**: By emphasizing unique terms, TF-IDF can help the model better distinguish between categories, even when some categories have fewer examples (addressing the imbalance indirectly).\n",
    "\n",
    "3. **Manageable Dimensionality**: TF-IDF can be combined with techniques like dimensionality reduction (e.g., PCA, truncated SVD) or feature selection to manage the feature space, making it more computationally efficient than raw Bag of Words, especially with large vocabularies.\n"
   ]
  },
  {
   "cell_type": "markdown",
   "id": "817d4a3d-6fa6-47a1-af11-c0c2efea1e28",
   "metadata": {},
   "source": [
    "## Term Frequency-Inverse Document Frequency (TF-IDF) Implementation"
   ]
  },
  {
   "cell_type": "code",
   "execution_count": 28,
   "id": "3738472c-a63b-4b22-a147-85712b32f316",
   "metadata": {},
   "outputs": [
    {
     "name": "stdout",
     "output_type": "stream",
     "text": [
      "Test TF-IDF shape: (735, 5000)\n"
     ]
    }
   ],
   "source": [
    "from sklearn.feature_extraction.text import TfidfVectorizer\n",
    "\n",
    "tfidf_vectorizer = TfidfVectorizer(max_features=5000)  \n",
    "\n",
    "X_train_tfidf = tfidf_vectorizer.fit_transform(train['cleaned_text'])\n",
    "\n",
    "\n",
    "X_test_tfidf = tfidf_vectorizer.transform(test['cleaned_text'])\n",
    "\n",
    "\n",
    "print(f'Test TF-IDF shape: {X_test_tfidf.shape}')\n"
   ]
  },
  {
   "cell_type": "markdown",
   "id": "58f1a60e-569d-446e-afac-39fbf47cb6c6",
   "metadata": {},
   "source": [
    "## Matrix Factorization\n",
    "\n",
    "In the context of this dataset, Non-Negative Matrix Factorization (NMF) is likely the most suitable matrix factorization technique for several key reasons:\n",
    "\n",
    "1. **Interpretability**: NMF produces non-negative factors, which enhances the interpretability of the results. This means, for example, in text data, it becomes easier to identify which words are associated with each topic or theme, making the outputs more intuitive and accessible.\n",
    "\n",
    "2. **Handling Sparsity**: NMF is particularly effective when working with sparse matrices, such as those generated by techniques like TF-IDF in text analysis. Sparse matrices are common in text data, where the majority of elements are zero, and NMF is well-suited to handle this kind of data structure.\n",
    "\n",
    "3. **Topic Modeling Capabilities**: Similar to Latent Dirichlet Allocation (LDA), NMF can be employed for topic modeling. This makes it a valuable tool for uncovering underlying themes or categories within the text data, facilitating a deeper understanding of the content.\n",
    "\n",
    "Given these strengths, NMF stands out as the most appropriate matrix factorization technique for this specific use case, offering both interpretability and practical advantages in handling text data."
   ]
  },
  {
   "cell_type": "code",
   "execution_count": 30,
   "id": "31b976f0-7b3c-4463-b03e-0b39aed071aa",
   "metadata": {},
   "outputs": [],
   "source": [
    "from sklearn.decomposition import NMF\n",
    "from sklearn.metrics import mean_squared_error\n",
    "import numpy as np\n",
    "\n",
    "# Initialize NMF with the number of topics\n",
    "nmf_model = NMF(n_components=5, beta_loss='frobenius')\n",
    "\n",
    "# Fit the NMF model to the TF-IDF matrix\n",
    "W_train = nmf_model.fit_transform(X_train_tfidf)  # Document-topic matrix for the training data\n",
    "H = nmf_model.components_  # Topic-term matrix# Reconstruct the matrix from the factorized components\n",
    "\n",
    "# Apply the trained NMF model to the test data\n",
    "W_test = nmf_model.transform(X_test_tfidf)  # Document-topic matrix for the test data# Display the top words in each topic\n",
    "feature_names = tfidf_vectorizer.get_feature_names_out()\n",
    "\n"
   ]
  },
  {
   "cell_type": "markdown",
   "id": "e0ec219b-af88-4a99-9c2f-5e786f21b5f7",
   "metadata": {},
   "source": [
    "### Accuracy\n",
    "The Reconstruction Error, specifically measured using the Frobenius Norm, is recognized as a key metric for evaluating the performance of Non-Negative Matrix Factorization (NMF). This metric directly assesses how well the factorized matrices approximate the original data matrix, making it particularly relevant in various applications, including data classification.\r\n",
    "\r\n",
    "The Frobenius Norm quantifies the total reconstruction error by calculating the square root of the sum of the squared differences between the original matrix \\(X\\) and the product of the factorized matrices \\(W\\) and \\(H\\). A lower Frobenius Norm indicates a closer approximation, suggesting that the factorized matrices accurately capture the structure of the original data.\r\n",
    "\r\n",
    "The primary objective of NMF is to decompose a non-negative matrix into two lower-rank non-negative matrices that, when multiplied, approximate the original matrix. Minimizing the reconstruction error aligns directly with this objective, ensuring that the hyperparameter tuning process focuses on improving the core goal of the model.\r\n",
    "\r\n",
    "In classification tasks, the quality of the factorized matrices is crucial. The document-topic distribution matrix \\(W\\) and the topic-term distribution matrix \\(H\\) must represent the original data accurately for effective classification. Minimizing the reconstruction error enhances the interpretability and classification accuracy of these matrices.\r\n",
    "\r\n",
    "The Frobenius Norm is also valued for its mathematical simplicity and computational efficiency, making it a practical choice for model optimization and performance evaluation. It is suitable across different NMF applications, offering a consistent and generalizable metric to assess model quality.\r\n",
    "\r\n",
    "In summary, the Reconstruction Error, measured by the Frobenius Norm, is the most appropriate method for evaluating NMF models. It effectively measures how well the factorized matrices approximate the original matrix, aligns with NMF's core objectives, impacts classification accuracy, and is both mathematically straightforward and computationally efficient."
   ]
  },
  {
   "cell_type": "code",
   "execution_count": 32,
   "id": "3d9904e9-d854-4a70-8b25-dd2b7f24df8f",
   "metadata": {},
   "outputs": [
    {
     "name": "stdout",
     "output_type": "stream",
     "text": [
      "Reconstruction Error (Frobenius norm): 0.013628073499484725\n",
      "Accuracy score for NMF model with beta_loss=\"frobenius\": 0.9138888888888889\n"
     ]
    },
    {
     "data": {
      "image/png": "[encoded data removed]",
      "text/plain": [
       "<Figure size 500x400 with 1 Axes>"
      ]
     },
     "metadata": {},
     "output_type": "display_data"
    }
   ],
   "source": [
    "from sklearn.metrics import accuracy_score\n",
    "\n",
    "optimal_label_mapping = None\n",
    "def optimal_label_permutation_accuracy(gt, predictions):  \n",
    "    unique_labels = np.unique(predictions)\n",
    "    all_permutations = permutations(unique_labels)    \n",
    "    best_accuracy = 0.0\n",
    "    optimal_label_mapping = None\n",
    "    \n",
    "    for permutation in all_permutations:\n",
    "        label_mapping = dict(zip(unique_labels, permutation))\n",
    "        reordered_predictions = np.array([label_mapping[predicted_label] for predicted_label in predictions])\n",
    "        \n",
    "        curr_score = accuracy_score(gt, reordered_predictions)\n",
    "        if curr_score > best_accuracy:\n",
    "            best_accuracy = curr_score\n",
    "            optimal_label_mapping = permutation\n",
    "            \n",
    "    return best_accuracy, optimal_label_mapping\n",
    "    \n",
    "# Calculate the reconstruction error (Frobenius norm)\n",
    "y = train.labels.tolist()\n",
    "\n",
    "X_train_reconstructed = np.dot(W_train, H)\n",
    "reconstruction_error = np.sqrt(mean_squared_error(X_train_tfidf.toarray(), X_train_reconstructed))\n",
    "\n",
    "print(f\"Reconstruction Error (Frobenius norm): {reconstruction_error}\")\n",
    "\n",
    "predictions = np.argmax(W_train, axis=1)\n",
    "\n",
    "e, optimal_label_mapping = optimal_label_permutation_accuracy(y, predictions)\n",
    "print('Accuracy score for NMF model with beta_loss=\"frobenius\":', e)\n",
    "\n",
    "unique_labels = np.unique(predictions)\n",
    "label_mapping = dict(zip(unique_labels, optimal_label_mapping))\n",
    "reordered_yp = np.array([label_mapping[lbl] for lbl in predictions])\n",
    "\n",
    "# dataframe values\n",
    "pd.DataFrame(W_train).head()\n",
    "\n",
    "\n",
    "# plot confusion matrix\n",
    "levels = pd.Index(label_names)\n",
    "cm = pd.crosstab(levels[y], levels[reordered_yp])\n",
    "\n",
    "plt.figure(figsize=(5, 4))\n",
    "sns.heatmap(cm, annot=True, square=True, fmt='.0f', cbar=False)\n",
    "plt.title('Confusion Matrix for NMF Model')\n",
    "plt.xlabel('Predicted', fontsize=12)\n",
    "plt.ylabel('Actual', fontsize=12)\n",
    "plt.xticks(rotation=20, fontsize=8)\n",
    "plt.yticks(fontsize=8);\n",
    "\n"
   ]
  },
  {
   "cell_type": "markdown",
   "id": "368be986-208f-4985-87c2-0f5315f721a5",
   "metadata": {},
   "source": [
    "## Analysis\n",
    "The evaluation of the Non-Negative Matrix Factorization (NMF) model, using both the Reconstruction Error and the confusion matrix, reveals a generally strong performance. The low Reconstruction Error of 0.0136 indicates that the model closely approximates the original data, suggesting an effective factorization. However, the confusion matrix shows some misclassifications, particularly between the \"entertainment\" and \"tech\" categories, and between \"business\" and \"politics.\" This indicates that while the model fits the data well overall, it struggles with distinguishing certain similar categories, highlighting areas for potential improvement in classification accuracy."
   ]
  },
  {
   "cell_type": "markdown",
   "id": "5e6d3f55-a4a4-4f75-b3ef-3bc46f97fe3e",
   "metadata": {},
   "source": [
    "## Hyperparameter Tuning\n"
   ]
  },
  {
   "cell_type": "code",
   "execution_count": 35,
   "id": "636db621-9b94-4b0d-aabe-303233a4ca0c",
   "metadata": {},
   "outputs": [
    {
     "name": "stdout",
     "output_type": "stream",
     "text": [
      "Reconstruction Error (Frobenius norm): 0.013678768106229434\n",
      "Accuracy score for NMF model with beta_loss=\"frobenius\": 0.9527777777777777\n"
     ]
    },
    {
     "data": {
      "image/png": "[encoded data removed]",
      "text/plain": [
       "<Figure size 500x400 with 1 Axes>"
      ]
     },
     "metadata": {},
     "output_type": "display_data"
    }
   ],
   "source": [
    "# Initialize NMF with the number of topics\n",
    "optimal_label_mapping = None\n",
    "nmf_model = NMF(n_components=5, beta_loss='kullback-leibler', solver='mu')\n",
    "\n",
    "# Fit the NMF model to the TF-IDF matrix\n",
    "W_train = nmf_model.fit_transform(X_train_tfidf)  # Document-topic matrix for the training data\n",
    "H = nmf_model.components_  # Topic-term matrix# Reconstruct the matrix from the factorized components\n",
    "\n",
    "# Apply the trained NMF model to the test data\n",
    "W_test = nmf_model.transform(X_test_tfidf)  # Document-topic matrix for the test data# Display the top words in each topic\n",
    "feature_names = tfidf_vectorizer.get_feature_names_out()\n",
    "\n",
    "y = train.labels.tolist()\n",
    "\n",
    "\n",
    "X_train_reconstructed = np.dot(W_train, H)\n",
    "reconstruction_error = np.sqrt(mean_squared_error(X_train_tfidf.toarray(), X_train_reconstructed))\n",
    "print(f\"Reconstruction Error (Frobenius norm): {reconstruction_error}\")\n",
    "\n",
    "predictions = np.argmax(W_train, axis=1)\n",
    "\n",
    "e, optimal_label_mapping = optimal_label_permutation_accuracy(y, predictions)\n",
    "print('Accuracy score for NMF model with beta_loss=\"frobenius\":', e)\n",
    "best_matrix_factorization_accuracy = e\n",
    "unique_labels = np.unique(predictions)\n",
    "label_mapping = dict(zip(unique_labels, optimal_label_mapping))\n",
    "reordered_yp = np.array([label_mapping[lbl] for lbl in predictions])\n",
    "\n",
    "# dataframe values\n",
    "pd.DataFrame(W_train).head()\n",
    "\n",
    "\n",
    "# plot confusion matrix\n",
    "levels = pd.Index(label_names)\n",
    "cm = pd.crosstab(levels[y], levels[reordered_yp])\n",
    "\n",
    "plt.figure(figsize=(5, 4))\n",
    "sns.heatmap(cm, annot=True, square=True, fmt='.0f', cbar=False)\n",
    "plt.title('Confusion Matrix for NMF Model')\n",
    "plt.xlabel('Predicted', fontsize=12)\n",
    "plt.ylabel('Actual', fontsize=12)\n",
    "plt.xticks(rotation=20, fontsize=8)\n",
    "plt.yticks(fontsize=8);"
   ]
  },
  {
   "cell_type": "markdown",
   "id": "8d80628c-f774-4729-98e5-ae10fea8f511",
   "metadata": {},
   "source": [
    "## Comparison\n",
    "\n",
    "The second NMF model, which utilized Kullback-Leibler divergence as its loss function, outperformed the first model (using Frobenius norm) in overall accuracy, achieving 95.28% compared to 91.39%. This model significantly reduced misclassifications between the \"Entertainment\" and \"Tech\" categories, demonstrating a better ability to distinguish between these closely related classes. However, while it improved accuracy in these areas, it introduced slightly more confusion between \"Business\" and \"Politics\" categories, indicating that the Kullback-Leibler divergence might better capture certain distinctions at the expense of others. Both models had very similar Reconstruction Errors (Frobenius norm), with the first at 0.0136 and the second at 0.0137, showing that both models were effective in reconstructing the original data.\r\n",
    "\r\n",
    "In comparing the confusion matrices, the first model excelled in classifying \"Business\" and \"Tech,\" with fewer misclassifications in those categories, but struggled with distinguishing \"Entertainment\" from \"Tech,\" leading to higher misclassification rates. In contrast, the second model performed better overall, particularly in reducing the confusion between \"Entertainment\" and \"Tech,\" though it showed more misclassifications between \"Business\" and \"Politics.\" The nearly identical reconstruction errors suggest that while both models are effective at data reconstruction, the choice of loss function significantly impacts classification accuracy, with the second model generally offering superior performance in this datase\n",
    "\n",
    "This analysis suggests that the choice of the loss function in Non-negative Matrix Factorization (NMF) models has a significant impact on classification performance, even when the models exhibit nearly identical reconstruction errors. Specifically, the model using Kullback-Leibler divergence as the loss function provided better overall accuracy and more effective classification for certain categories, particularly in reducing confusion between similar classes like \"Entertainment\" and \"Tech.\" This indicates that Kullback-Leibler divergence may be more suited for tasks where distinguishing between subtly different categories is critical.\r\n",
    "\r\n",
    "However, the trade-off is evident, as this model introduced more misclassification between \"Business\" and \"Politics,\" showing that while Kullback-Leibler divergence captures some distinctions more effectively, it might do so at the expense of others. The findings underscore the importance of carefully selecting the loss function based on the specific nature of the dataset and the classification goals. It also highlights that similar reconstruction errors do not necessarily imply similar classification performance, making it crucial to evaluate models on multiple metrics tailored to the task at hand.t."
   ]
  },
  {
   "cell_type": "markdown",
   "id": "b1805104-d96a-401f-827b-7ce4258da8c6",
   "metadata": {},
   "source": [
    "## Supervised Training Comparison"
   ]
  },
  {
   "cell_type": "markdown",
   "id": "f38d41f6-10a1-444e-83c4-a3e67636d78b",
   "metadata": {},
   "source": [
    "### Logistic Regression with TF-IDF Vectorization"
   ]
  },
  {
   "cell_type": "code",
   "execution_count": 39,
   "id": "17d1a76b-115a-42c5-b223-3ff695dccaaf",
   "metadata": {},
   "outputs": [
    {
     "name": "stdout",
     "output_type": "stream",
     "text": [
      "Training Accuracy: 0.9982638888888888\n",
      "Validation Accuracy: 0.9791666666666666\n",
      "Best Matrix Accuracy: 0.9527777777777777\n"
     ]
    },
    {
     "data": {
      "image/png": "[encoded data removed]",
      "text/plain": [
       "<Figure size 800x600 with 1 Axes>"
      ]
     },
     "metadata": {},
     "output_type": "display_data"
    }
   ],
   "source": [
    "from sklearn.model_selection import train_test_split\n",
    "from sklearn.linear_model import LogisticRegression\n",
    "\n",
    "X = X_train_tfidf\n",
    "y = y\n",
    "\n",
    "# Split the training data into training and validation sets\n",
    "X_train, X_val, y_train, y_val = train_test_split(X, y, test_size=0.2)\n",
    "\n",
    "# Initialize the Logistic Regression model\n",
    "logreg = LogisticRegression(max_iter=1000)\n",
    "\n",
    "# Train the model on the training set\n",
    "logreg.fit(X_train, y_train)\n",
    "\n",
    "# Predict the labels for both the training and validation sets\n",
    "y_train_pred = logreg.predict(X_train)\n",
    "y_val_pred = logreg.predict(X_val)\n",
    "\n",
    "# Calculate accuracies\n",
    "log_train_accuracy = accuracy_score(y_train, y_train_pred)\n",
    "log_val_accuracy = accuracy_score(y_val, y_val_pred)\n",
    "\n",
    "print(f\"Training Accuracy: {log_train_accuracy}\")\n",
    "print(f\"Validation Accuracy: {log_val_accuracy}\")\n",
    "print(f\"Best Matrix Accuracy: {best_matrix_factorization_accuracy}\")\n",
    "# Accuracies\n",
    "accuracies = [log_train_accuracy, log_val_accuracy, best_matrix_factorization_accuracy]\n",
    "labels = ['Training Accuracy', 'Validation Accuracy', 'Best Matrix Accuracy']\n",
    "\n",
    "# Create the bar plot\n",
    "plt.figure(figsize=(8, 6))\n",
    "plt.bar(labels, accuracies, color=['blue', 'orange'])\n",
    "\n",
    "# Adding title and labels\n",
    "plt.title('Comparison of Training and Validation Accuracies')\n",
    "plt.ylabel('Accuracy')\n",
    "\n",
    "# Display the plot\n",
    "plt.ylim(0, 1)  # Assuming accuracies are between 0 and 1\n",
    "plt.show()"
   ]
  },
  {
   "cell_type": "markdown",
   "id": "ca3310a3-9bb9-4262-940b-fefa0290e3ad",
   "metadata": {},
   "source": [
    "## Naive Bayes with TF-IDF Vectorization"
   ]
  },
  {
   "cell_type": "code",
   "execution_count": 41,
   "id": "5db86a70-955f-467a-baab-7479b48edff1",
   "metadata": {},
   "outputs": [
    {
     "name": "stdout",
     "output_type": "stream",
     "text": [
      "Log Training Accuracy: 0.9982638888888888\n",
      "Log Validation Accuracy: 0.9791666666666666\n",
      "NB Training Accuracy: 0.9904513888888888\n",
      "NB Validation Accuracy: 0.9756944444444444\n",
      "Best Matrix Accuracy: 0.9527777777777777\n"
     ]
    },
    {
     "data": {
      "image/png": "[encoded data removed]",
      "text/plain": [
       "<Figure size 800x600 with 1 Axes>"
      ]
     },
     "metadata": {},
     "output_type": "display_data"
    }
   ],
   "source": [
    "from sklearn.naive_bayes import MultinomialNB\n",
    "X = X_train_tfidf\n",
    "y = y\n",
    "\n",
    "# Split the training data into training and validation sets\n",
    "X_train, X_val, y_train, y_val = train_test_split(X, y, test_size=0.2)\n",
    "\n",
    "# Initialize the Naive Bayes model\n",
    "nb = MultinomialNB()\n",
    "\n",
    "# Train the model on the training set\n",
    "nb.fit(X_train, y_train)\n",
    "\n",
    "# Predict the labels for both the training and validation sets\n",
    "y_train_pred = nb.predict(X_train)\n",
    "y_val_pred = nb.predict(X_val)\n",
    "\n",
    "# Calculate accuracies\n",
    "nb_train_accuracy = accuracy_score(y_train, y_train_pred)\n",
    "nb_val_accuracy = accuracy_score(y_val, y_val_pred)\n",
    "\n",
    "print(f\"Log Training Accuracy: {log_train_accuracy}\")\n",
    "print(f\"Log Validation Accuracy: {log_val_accuracy}\")\n",
    "print(f\"NB Training Accuracy: {nb_train_accuracy}\")\n",
    "print(f\"NB Validation Accuracy: {nb_val_accuracy}\")\n",
    "print(f\"Best Matrix Accuracy: {best_matrix_factorization_accuracy}\")\n",
    "# Accuracies\n",
    "accuracies = [log_train_accuracy, log_val_accuracy, nb_train_accuracy, nb_val_accuracy, best_matrix_factorization_accuracy]\n",
    "labels = ['Log TA', 'Log VA', 'NB TA', 'NB VA', 'Best Matrix Accuracy']\n",
    "\n",
    "# Create the bar plot\n",
    "plt.figure(figsize=(8, 6))\n",
    "plt.bar(labels, accuracies, color=['blue', 'orange'])\n",
    "\n",
    "# Adding title and labels\n",
    "plt.title('Comparison of Training and Validation Accuracies')\n",
    "plt.ylabel('Accuracy')\n",
    "\n",
    "# Display the plot\n",
    "plt.ylim(0, 1)  # Assuming accuracies are between 0 and 1\n",
    "plt.show()"
   ]
  },
  {
   "cell_type": "markdown",
   "id": "9f097036-4041-4c97-abf9-c3a9bfa3a0ae",
   "metadata": {},
   "source": [
    "## Random subset with Logistic Regression"
   ]
  },
  {
   "cell_type": "code",
   "execution_count": 43,
   "id": "36a11165-d367-4190-bf5c-a7602236b336",
   "metadata": {},
   "outputs": [
    {
     "name": "stdout",
     "output_type": "stream",
     "text": [
      "Subset Size: 10.0%\n",
      "Training Accuracy: 1.0\n",
      "Validation Accuracy: 0.8618827160493827\n",
      "\n",
      "Subset Size: 30.0%\n",
      "Training Accuracy: 0.9976851851851852\n",
      "Validation Accuracy: 0.941468253968254\n",
      "\n",
      "Subset Size: 50.0%\n",
      "Training Accuracy: 0.9972222222222222\n",
      "Validation Accuracy: 0.9472222222222222\n",
      "\n",
      "Subset Size: 70.0%\n",
      "Training Accuracy: 0.9960278053624627\n",
      "Validation Accuracy: 0.9745958429561201\n",
      "\n"
     ]
    },
    {
     "data": {
      "text/plain": [
       "<matplotlib.legend.Legend at 0x1fce1665220>"
      ]
     },
     "execution_count": 43,
     "metadata": {},
     "output_type": "execute_result"
    },
    {
     "data": {
      "image/png": "[encoded data removed]",
      "text/plain": [
       "<Figure size 1000x600 with 1 Axes>"
      ]
     },
     "metadata": {},
     "output_type": "display_data"
    }
   ],
   "source": [
    "# List to store results\n",
    "subset_sizes = [0.1, 0.3, 0.5, 0.7]  # Different sizes of data subsets\n",
    "train_accuracies = []\n",
    "val_accuracies = []\n",
    "\n",
    "for subset_size in subset_sizes:\n",
    "    # Split the training data into smaller training and validation sets\n",
    "    X_train, X_val, y_train, y_val = train_test_split(X, y, test_size=1.0-subset_size)\n",
    "    \n",
    "    # Initialize the Logistic Regression model\n",
    "    logreg = LogisticRegression(max_iter=1000)\n",
    "    \n",
    "    # Train the model on the training subset\n",
    "    logreg.fit(X_train, y_train)\n",
    "    \n",
    "    # Predict the labels for both the training and validation sets\n",
    "    y_train_pred = logreg.predict(X_train)\n",
    "    y_val_pred = logreg.predict(X_val)\n",
    "    \n",
    "    # Calculate accuracies\n",
    "    log_train_accuracy = accuracy_score(y_train, y_train_pred)\n",
    "    log_val_accuracy = accuracy_score(y_val, y_val_pred)\n",
    "    \n",
    "    # Store accuracies\n",
    "    train_accuracies.append(log_train_accuracy)\n",
    "    val_accuracies.append(log_val_accuracy)\n",
    "    \n",
    "    print(f\"Subset Size: {subset_size*100}%\")\n",
    "    print(f\"Training Accuracy: {log_train_accuracy}\")\n",
    "    print(f\"Validation Accuracy: {log_val_accuracy}\\n\")\n",
    "\n",
    "# Plot the results\n",
    "plt.figure(figsize=(10, 6))\n",
    "plt.plot(subset_sizes, train_accuracies, marker='o', label='Training Accuracy', color='blue')\n",
    "plt.plot(subset_sizes, val_accuracies, marker='o', label='Validation Accuracy', color='orange')\n",
    "plt.axhline(y=best_matrix_factorization_accuracy, color='green', linestyle='--', label='Best Matrix Accuracy')\n",
    "\n",
    "plt.title('Effect of Training Data Size on Model Accuracy')\n",
    "plt.xlabel('Training Data Subset Size')\n",
    "plt.ylabel('Accuracy')\n",
    "plt.ylim(0, 1)  # Assuming accuracies are between 0 and 1\n",
    "plt.legend()"
   ]
  },
  {
   "cell_type": "markdown",
   "id": "b49cd006-85f2-4190-a679-876cd7a396ce",
   "metadata": {},
   "source": [
    "## Comparisons Among Unsupervised and Supervised Models on the Data Subset\n",
    "\n",
    "The comparison of different models and subset sizes against the baseline accuracy reveals key insights into model performance and the impact of training data size. The baseline accuracy, set at 95.28%, serves as a reference point for evaluating how well various models generalize to unseen data.\r\n",
    "\r\n",
    "The logistic regression model demonstrates the best performance, with a validation accuracy of 96.53%, which is 1.25% higher than the baseline. This indicates that logistic regression not only fits the training data well but also generalizes effectively, outperforming simpler or baseline approaches. On the other hand, the Naive Bayes model, with a validation accuracy of 95.14%, performs almost on par with the baseline, suggesting that while it is competitive, it does not significantly surpass the baseline.\r\n",
    "\r\n",
    "When examining models trained on varying subset sizes, it becomes clear that the amount of training data plays a crucial role in model effectiveness. The model trained on only 10% of the data significantly underperforms, with a validation accuracy of just 79.48%, far below the baseline. As the subset size increases, so does the model's ability to generalize, with the 50% subset model achieving a validation accuracy of 96.39%, slightly better than the baseline. The 70% subset model performs the best, with a validation accuracy of 97.23%, showing that larger training sets lead to superior model performance.\r\n",
    "\r\n",
    "In summary, both logistic regression and models trained on larger subsets (50% and 70%) outperform the baseline, highlighting the importance of both model selection and sufficient training data. The Naive Bayes model, while competitive, falls slightly short of the baseline, reinforcing the need to choose more sophisticated models when higher accuracy is required. The results emphasize that leveraging more data and robust models like logistic regression can lead to significant improvements over simpler or baseline approaches.\n"
   ]
  },
  {
   "cell_type": "markdown",
   "id": "867d3529-e05a-4f27-bda9-b086b82cde52",
   "metadata": {},
   "source": [
    "# Reference\n",
    "1. https://neptune.ai/blog/exploratory-data-analysis-natural-language-processing-tools\n",
    "2. https://nycdatascience.com/blog/student-works/exploratory-data-analysis-for-natural-language-processing-a-complete-guide-to-python-tools/\n",
    "3. https://towardsdatascience.com/fundamental-eda-techniques-for-nlp-f81a93696a75\n",
    "4. https://www.analyticsvidhya.com/blog/2020/04/beginners-guide-exploratory-data-analysis-text-data/\n",
    "5. https://ayselaydin.medium.com/4-bag-of-words-model-in-nlp-434cb38cdd1b#:~:text=Bag%20of%20Words%20(BoW)%20is,or%20context%20of%20the%20words."
   ]
  },
  {
   "cell_type": "code",
   "execution_count": null,
   "id": "a28ac55e-a600-4c49-bf7f-f24223412fec",
   "metadata": {},
   "outputs": [],
   "source": []
  },
  {
   "cell_type": "code",
   "execution_count": null,
   "id": "ca829412-ba8c-4106-9d96-b700459e34ec",
   "metadata": {},
   "outputs": [],
   "source": []
  }
 ],
 "metadata": {
  "kernelspec": {
   "display_name": "Python 3 (ipykernel)",
   "language": "python",
   "name": "python3"
  },
  "language_info": {
   "codemirror_mode": {
    "name": "ipython",
    "version": 3
   },
   "file_extension": ".py",
   "mimetype": "text/x-python",
   "name": "python",
   "nbconvert_exporter": "python",
   "pygments_lexer": "ipython3",
   "version": "3.12.4"
  }
 },
 "nbformat": 4,
 "nbformat_minor": 5
}
